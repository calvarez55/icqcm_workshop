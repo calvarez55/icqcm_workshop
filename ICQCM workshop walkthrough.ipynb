{
 "cells": [
  {
   "cell_type": "markdown",
   "metadata": {},
   "source": [
    "# Eco-intersectional multilevel walkthrough\n",
    "I will walk through an example of using the eco-intersectional multilevel (EIM) approach using Stata. This walkthrough uses <b>a modified dataset.</b> The MLwiN code in step 3 is adapted from Professor Clare Evans code. <br>\n",
    "<div class=\"alert alert-block alert-danger\">\n",
    "<b>CAUTION</b> This data is modified. This data should only be used to practice. This data SHOULD NOT be used for decision-making purposes. Please contact me calvarez55@ucmerced.edu to discuss accessing the original data for real-life application. </u> \n",
    "</div>"
   ]
  },
  {
   "cell_type": "markdown",
   "metadata": {},
   "source": [
    "Walkthrough outline:\n",
    "* Step 1: Making the intersectional strata\n",
    "* Step 2: Running the models\n",
    "    * Model A -- null model (model with no fixed effects)\n",
    "    * Model B -- additive model (model with additive fixed effects)\n",
    "    * Model C -- control model (model with control variables)\n",
    "* Step 3: Making caterpillar graphs"
   ]
  },
  {
   "cell_type": "markdown",
   "metadata": {},
   "source": [
    "***"
   ]
  },
  {
   "cell_type": "markdown",
   "metadata": {},
   "source": [
    "## Step 1: Making intersectional strata"
   ]
  },
  {
   "cell_type": "markdown",
   "metadata": {},
   "source": [
    "### Loading the data\n",
    "Its always good to check the working directory and set it the directory holding the file."
   ]
  },
  {
   "cell_type": "code",
   "execution_count": 1,
   "metadata": {},
   "outputs": [
    {
     "name": "stdout",
     "output_type": "stream",
     "text": [
      "\n",
      "C:\\Users\\acade\\Jupyter\\ICQCM\\workshop\n",
      "\n",
      "C:\\Users\\acade\\Jupyter\\ICQCM\\workshop\n"
     ]
    }
   ],
   "source": [
    "pwd\n",
    "cd \"C:\\Users\\acade\\Jupyter\\ICQCM\\workshop\""
   ]
  },
  {
   "cell_type": "markdown",
   "metadata": {},
   "source": [
    "We will now open the dataset in Stata and quickly check the content of the file."
   ]
  },
  {
   "cell_type": "code",
   "execution_count": 2,
   "metadata": {},
   "outputs": [
    {
     "name": "stdout",
     "output_type": "stream",
     "text": [
      "\n",
      "(ICQCM practice data for workshop)\n",
      "\n",
      "\n",
      "Contains data from eimdata.dta\n",
      " Observations:        71,103                  ICQCM practice data for workshop\n",
      "    Variables:            14                  16 Jul 2021 15:01\n",
      "--------------------------------------------------------------------------------\n",
      "Variable      Storage   Display    Value\n",
      "    name         type    format    label      Variable label\n",
      "--------------------------------------------------------------------------------\n",
      "mhhincome       long    %12.0g                Median household income\n",
      "blk_ntlatper    float   %9.0g                 % Black residents\n",
      "latper          float   %9.0g                 % Latinx residents\n",
      "fhh             float   %9.0g                 % female-headed household\n",
      "smcollnupper    float   %9.0g                 % of residents with some college\n",
      "                                                or more\n",
      "cancerrisk      double  %10.0g                Total Cancer Risk (per million)\n",
      "metro           float   %9.0g                 Tract resides in a metro\n",
      "c_medhouv~10000 float   %9.0g                 Median housing value in 10000s\n",
      "                                                (centered)\n",
      "c_medianage     float   %9.0g                 Median age (centered)\n",
      "c_unemployper   float   %9.0g                 % unemployed (centered)\n",
      "c_rentper       float   %9.0g                 % renters (centered)\n",
      "c_manuper       float   %9.0g                 % manufacturing workers (centered)\n",
      "c_housyrbuilt~r float   %9.0g                 % housing structures built since\n",
      "                                                1970s (centered)\n",
      "obs_id          float   %9.0g                 Tract ID (random)\n",
      "--------------------------------------------------------------------------------\n",
      "Sorted by: \n"
     ]
    }
   ],
   "source": [
    "use eimdata.dta, clear\n",
    "desc"
   ]
  },
  {
   "cell_type": "markdown",
   "metadata": {},
   "source": [
    "We can the data includes various social demographic variables (such as % female-headed household, median age, etc...). The dependent variable we will using in this example is cancerrisk which is the estimated cancer risk from air toxics per million persons."
   ]
  },
  {
   "cell_type": "markdown",
   "metadata": {},
   "source": [
    "### Making terciles of the data\n",
    "We need to calculate dotiles and terciles of the variables we want have in our intersectional strata. In this example, the intersectional strata will be:\n",
    "- % Black residents & % Latinx residents\n",
    "- % female-headed household\n",
    "- median household income\n",
    "- % of residents with some college or more\n",
    "- metro\n",
    "\n",
    "For the race/ethnicity dimension, we will create do-tiles of % Black and Latinx residents. Then make four categories of the combinations of the do-tiles."
   ]
  },
  {
   "cell_type": "code",
   "execution_count": 3,
   "metadata": {},
   "outputs": [],
   "source": [
    "*creates two quantiles (aka do-tiles)\n",
    "xtile blk_ntlatper_med = blk_ntlatper, nq(2)\n",
    "xtile latper_med = latper, nq(2)"
   ]
  },
  {
   "cell_type": "code",
   "execution_count": 4,
   "metadata": {},
   "outputs": [
    {
     "name": "stdout",
     "output_type": "stream",
     "text": [
      "\n",
      "(71,103 missing values generated)\n",
      "\n",
      "(20,273 real changes made)\n",
      "\n",
      "(15,279 real changes made)\n",
      "\n",
      "(15,279 real changes made)\n",
      "\n",
      "(20,272 real changes made)\n"
     ]
    }
   ],
   "source": [
    "*creates the race variable based on do-tiles of blk_ntlatper and latper\n",
    "*1 means below the median % of the group and 2 means above the median % of the group \n",
    "gen race=.\n",
    "replace race=1 if blk_ntlatper_med==1 & latper_med==1\n",
    "replace race=2 if blk_ntlatper_med==2 & latper_med==1\n",
    "replace race=3 if blk_ntlatper_med==1 & latper_med==2\n",
    "replace race=4 if blk_ntlatper_med==2 & latper_med==2"
   ]
  },
  {
   "cell_type": "markdown",
   "metadata": {},
   "source": [
    "intersectional strata:\n",
    "- % Black residents & % Latinx residents (DONE)\n",
    "- % female-headed household\n",
    "- median household income\n",
    "- % of residents with some college or more\n",
    "- metro (DONE)\n",
    "\n",
    "#### Next, we calculate the terciles of: female-headed household, median household income, and educational attainment.\n",
    "Where 1 means lower percentile, 2 is middle, and 3 is upper percentile."
   ]
  },
  {
   "cell_type": "code",
   "execution_count": 5,
   "metadata": {},
   "outputs": [],
   "source": [
    "xtile fhh_ter = fhh, nq(3)\n",
    "xtile smcollnupper_ter = smcollnupper, nq(3)\n",
    "xtile mhhincome_ter = mhhincome, nq(3)"
   ]
  },
  {
   "cell_type": "markdown",
   "metadata": {},
   "source": [
    "intersectional strata will be:\n",
    "- % Black residents & % Latinx residents (DONE)\n",
    "- % female-headed household (DONE)\n",
    "- median household income (DONE) \n",
    "- % of residents with some college or more (DONE)\n",
    "- metro (DONE)\n",
    "\n",
    "metro is coded as a binary where 0 means the tract is not in a metro and 1 means the tract is in metro. "
   ]
  },
  {
   "cell_type": "markdown",
   "metadata": {},
   "source": [
    "#### Now, we make a variable concatenating each corresponding value for each census tract."
   ]
  },
  {
   "cell_type": "code",
   "execution_count": 6,
   "metadata": {},
   "outputs": [],
   "source": [
    "egen strata_str= concat( race fhh_ter smcollnupper_ter mhhincome_ter metro)\n",
    "encode strata_str, g(strata)\n",
    "label var strata \"Intersectional strata ID\""
   ]
  },
  {
   "cell_type": "code",
   "execution_count": 7,
   "metadata": {
    "scrolled": false
   },
   "outputs": [
    {
     "name": "stdout",
     "output_type": "stream",
     "text": [
      "\n",
      "\n",
      "    Variable |        Obs        Mean    Std. dev.       Min        Max\n",
      "-------------+---------------------------------------------------------\n",
      "   mhhincome |     71,103    57273.92    28472.88       2499     250001\n",
      "blk_ntlatper |     71,103    13.37071    21.92066          0        100\n",
      "      latper |     71,103    15.64994    21.14894          0        100\n",
      "         fhh |     71,103    13.64217    8.707457          0   87.27915\n",
      "smcollnupper |     71,103    57.13329    17.81199   4.737609        100\n",
      "\n",
      "\n",
      "       +---------------------------------------------------------------------+\n",
      "35074. | mhhinc~e | blk_nt~r |   latper |      fhh  | smco~per  | cancerr~k  |\n",
      "       |    55833 | 2.708075 | 38.31056 | 22.09469  | 53.01933  | 31.018535  |\n",
      "       |---------------------------------------------------------------------|\n",
      "       | metro  | c_~10000  | c_media~e  | c_unem~r  | c_rent~r  | c_manu~r  |\n",
      "       |     1  | 16.13082  | -3.851338  | 2.488935  | 24.38382  | 2.312608  |\n",
      "       |---------------------------------------------------------------------|\n",
      "       | c_hous~r | obs_id | blk_nt~d | latper~d | race | fhh_ter | smco~ter |\n",
      "       | 21.23754 |  35074 |        1 |        2 |    3 |       3 |        2 |\n",
      "       |---------------------------------------------------------------------|\n",
      "       |       mhhinc~r        |       strata~r        |       strata        |\n",
      "       |              2        |          33221        |        33221        |\n",
      "       +---------------------------------------------------------------------+\n"
     ]
    }
   ],
   "source": [
    "*We can check a random observation to make sure it worked\n",
    "summ mhhincome blk_ntlatper latper fhh smcollnupper\n",
    "list in 35074"
   ]
  },
  {
   "cell_type": "code",
   "execution_count": 8,
   "metadata": {},
   "outputs": [
    {
     "name": "stdout",
     "output_type": "stream",
     "text": [
      "(file eimdata_strata.dta not found)\n",
      "file eimdata_strata.dta saved\n"
     ]
    }
   ],
   "source": [
    "save eimdata_strata.dta, replace"
   ]
  },
  {
   "cell_type": "markdown",
   "metadata": {},
   "source": [
    "### Looking at the distribution of the strata\n",
    "It is important to look at the sample sizes across the strata. A good rule of thumb is most of strata (70% or more) should have 30 of more. Because 30 is where central limit theorem starts to come into play. "
   ]
  },
  {
   "cell_type": "code",
   "execution_count": 9,
   "metadata": {},
   "outputs": [
    {
     "name": "stdout",
     "output_type": "stream",
     "text": [
      "(ICQCM practice data for workshop)\n"
     ]
    }
   ],
   "source": [
    "use eimdata_strata.dta, clear"
   ]
  },
  {
   "cell_type": "code",
   "execution_count": 10,
   "metadata": {},
   "outputs": [],
   "source": [
    "*create a count variable and then collapse data based on strata groups.\n",
    "gen count=1\n",
    "collapse (sum) count, by(strata)"
   ]
  },
  {
   "cell_type": "code",
   "execution_count": 11,
   "metadata": {},
   "outputs": [
    {
     "name": "stdout",
     "output_type": "stream",
     "text": [
      "\n",
      "     +----------------+\n",
      "     | strata   count |\n",
      "     |----------------|\n",
      "  1. |  11110     516 |\n",
      "  2. |  11111     218 |\n",
      "  3. |  11120     769 |\n",
      "  4. |  11121     519 |\n",
      "  5. |  11130      30 |\n",
      "     |----------------|\n",
      "  6. |  11131     123 |\n",
      "  7. |  11210     282 |\n",
      "  8. |  11211     179 |\n",
      "  9. |  11220    1174 |\n",
      " 10. |  11221     963 |\n",
      "     |----------------|\n",
      " 11. |  11230     199 |\n",
      " 12. |  11231    1156 |\n",
      " 13. |  11310      47 |\n",
      " 14. |  11311     147 |\n",
      " 15. |  11320     210 |\n",
      "     |----------------|\n",
      " 16. |  11321     591 |\n",
      " 17. |  11330     211 |\n",
      " 18. |  11331    4435 |\n",
      " 19. |  12110     841 |\n",
      " 20. |  12111     408 |\n",
      "     |----------------|\n",
      " 21. |  12120     487 |\n",
      " 22. |  12121     645 |\n",
      " 23. |  12130       8 |\n",
      " 24. |  12131      59 |\n",
      " 25. |  12210     342 |\n",
      "     |----------------|\n",
      " 26. |  12211     185 |\n",
      " 27. |  12220     535 |\n",
      " 28. |  12221    1067 |\n",
      " 29. |  12230      53 |\n",
      " 30. |  12231     648 |\n",
      "     |----------------|\n",
      " 31. |  12310      29 |\n",
      " 32. |  12311      40 |\n",
      " 33. |  12320      65 |\n",
      " 34. |  12321     336 |\n",
      " 35. |  12330      38 |\n",
      "     |----------------|\n",
      " 36. |  12331    1228 |\n",
      " 37. |  13110     348 |\n",
      " 38. |  13111     248 |\n",
      " 39. |  13120      34 |\n",
      " 40. |  13121     128 |\n",
      "     |----------------|\n",
      " 41. |  13130       2 |\n",
      " 42. |  13131      12 |\n",
      " 43. |  13210     108 |\n",
      " 44. |  13211     130 |\n",
      " 45. |  13220      54 |\n",
      "     |----------------|\n",
      " 46. |  13221     216 |\n",
      " 47. |  13230       6 |\n",
      " 48. |  13231      62 |\n",
      " 49. |  13310       2 |\n",
      " 50. |  13311       5 |\n",
      "     |----------------|\n",
      " 51. |  13320       8 |\n",
      " 52. |  13321      40 |\n",
      " 53. |  13330       3 |\n",
      " 54. |  13331      84 |\n",
      " 55. |  21110     101 |\n",
      "     |----------------|\n",
      " 56. |  21111      92 |\n",
      " 57. |  21120      57 |\n",
      " 58. |  21121     100 |\n",
      " 59. |  21130       2 |\n",
      " 60. |  21131      27 |\n",
      "     |----------------|\n",
      " 61. |  21210      25 |\n",
      " 62. |  21211     144 |\n",
      " 63. |  21220      68 |\n",
      " 64. |  21221     293 |\n",
      " 65. |  21230      14 |\n",
      "     |----------------|\n",
      " 66. |  21231     249 |\n",
      " 67. |  21310      14 |\n",
      " 68. |  21311     268 |\n",
      " 69. |  21320      18 |\n",
      " 70. |  21321     416 |\n",
      "     |----------------|\n",
      " 71. |  21330      13 |\n",
      " 72. |  21331    1632 |\n",
      " 73. |  22110     442 |\n",
      " 74. |  22111     401 |\n",
      " 75. |  22120     135 |\n",
      "     |----------------|\n",
      " 76. |  22121     325 |\n",
      " 77. |  22130       4 |\n",
      " 78. |  22131      36 |\n",
      " 79. |  22210     118 |\n",
      " 80. |  22211     307 |\n",
      "     |----------------|\n",
      " 81. |  22220     144 |\n",
      " 82. |  22221     749 |\n",
      " 83. |  22230      14 |\n",
      " 84. |  22231     386 |\n",
      " 85. |  22310      15 |\n",
      "     |----------------|\n",
      " 86. |  22311     151 |\n",
      " 87. |  22320      26 |\n",
      " 88. |  22321     559 |\n",
      " 89. |  22330       7 |\n",
      " 90. |  22331     990 |\n",
      "     |----------------|\n",
      " 91. |  23110     872 |\n",
      " 92. |  23111    2675 |\n",
      " 93. |  23120      50 |\n",
      " 94. |  23121     320 |\n",
      " 95. |  23130       1 |\n",
      "     |----------------|\n",
      " 96. |  23131      28 |\n",
      " 97. |  23210     173 |\n",
      " 98. |  23211    1168 |\n",
      " 99. |  23220      63 |\n",
      "100. |  23221     718 |\n",
      "     |----------------|\n",
      "101. |  23230       2 |\n",
      "102. |  23231     180 |\n",
      "103. |  23310      11 |\n",
      "104. |  23311     124 |\n",
      "105. |  23320      10 |\n",
      "     |----------------|\n",
      "106. |  23321     280 |\n",
      "107. |  23330       1 |\n",
      "108. |  23331     261 |\n",
      "109. |  31110      74 |\n",
      "110. |  31111     123 |\n",
      "     |----------------|\n",
      "111. |  31120      99 |\n",
      "112. |  31121     150 |\n",
      "113. |  31130      13 |\n",
      "114. |  31131      34 |\n",
      "115. |  31210      79 |\n",
      "     |----------------|\n",
      "116. |  31211     144 |\n",
      "117. |  31220     269 |\n",
      "118. |  31221     436 |\n",
      "119. |  31230      57 |\n",
      "120. |  31231     472 |\n",
      "     |----------------|\n",
      "121. |  31310      24 |\n",
      "122. |  31311     157 |\n",
      "123. |  31320      57 |\n",
      "124. |  31321     389 |\n",
      "125. |  31330      65 |\n",
      "     |----------------|\n",
      "126. |  31331    2518 |\n",
      "127. |  32110     197 |\n",
      "128. |  32111     476 |\n",
      "129. |  32120     150 |\n",
      "130. |  32121     509 |\n",
      "     |----------------|\n",
      "131. |  32130       5 |\n",
      "132. |  32131      99 |\n",
      "133. |  32210     148 |\n",
      "134. |  32211     276 |\n",
      "135. |  32220     218 |\n",
      "     |----------------|\n",
      "136. |  32221     914 |\n",
      "137. |  32230      30 |\n",
      "138. |  32231     721 |\n",
      "139. |  32310      26 |\n",
      "140. |  32311      82 |\n",
      "     |----------------|\n",
      "141. |  32320      37 |\n",
      "142. |  32321     438 |\n",
      "143. |  32330      22 |\n",
      "144. |  32331    1500 |\n",
      "145. |  33110     217 |\n",
      "     |----------------|\n",
      "146. |  33111    1574 |\n",
      "147. |  33120      44 |\n",
      "148. |  33121     756 |\n",
      "149. |  33130       3 |\n",
      "150. |  33131     118 |\n",
      "     |----------------|\n",
      "151. |  33210      80 |\n",
      "152. |  33211     266 |\n",
      "153. |  33220      27 |\n",
      "154. |  33221     487 |\n",
      "155. |  33230       4 |\n",
      "     |----------------|\n",
      "156. |  33231     263 |\n",
      "157. |  33310       4 |\n",
      "158. |  33311      20 |\n",
      "159. |  33320       4 |\n",
      "160. |  33321     150 |\n",
      "     |----------------|\n",
      "161. |  33330       3 |\n",
      "162. |  33331     251 |\n",
      "163. |  41110      31 |\n",
      "164. |  41111     119 |\n",
      "165. |  41120      37 |\n",
      "     |----------------|\n",
      "166. |  41121      82 |\n",
      "167. |  41130       6 |\n",
      "168. |  41131      33 |\n",
      "169. |  41210      11 |\n",
      "170. |  41211     195 |\n",
      "     |----------------|\n",
      "171. |  41220      29 |\n",
      "172. |  41221     261 |\n",
      "173. |  41230       6 |\n",
      "174. |  41231     289 |\n",
      "175. |  41310       6 |\n",
      "     |----------------|\n",
      "176. |  41311     229 |\n",
      "177. |  41320      13 |\n",
      "178. |  41321     470 |\n",
      "179. |  41330      11 |\n",
      "180. |  41331    1411 |\n",
      "     |----------------|\n",
      "181. |  42110     161 |\n",
      "182. |  42111     616 |\n",
      "183. |  42120      70 |\n",
      "184. |  42121     404 |\n",
      "185. |  42130       2 |\n",
      "     |----------------|\n",
      "186. |  42131      77 |\n",
      "187. |  42210      52 |\n",
      "188. |  42211     495 |\n",
      "189. |  42220      61 |\n",
      "190. |  42221    1059 |\n",
      "     |----------------|\n",
      "191. |  42230       9 |\n",
      "192. |  42231     658 |\n",
      "193. |  42310      11 |\n",
      "194. |  42311     185 |\n",
      "195. |  42320      12 |\n",
      "     |----------------|\n",
      "196. |  42321     670 |\n",
      "197. |  42330       1 |\n",
      "198. |  42331    1487 |\n",
      "199. |  43110     386 |\n",
      "200. |  43111    4600 |\n",
      "     |----------------|\n",
      "201. |  43120      45 |\n",
      "202. |  43121    1155 |\n",
      "203. |  43130       1 |\n",
      "204. |  43131     172 |\n",
      "205. |  43210      51 |\n",
      "     |----------------|\n",
      "206. |  43211    1279 |\n",
      "207. |  43220      34 |\n",
      "208. |  43221    1522 |\n",
      "209. |  43230       3 |\n",
      "210. |  43231     622 |\n",
      "     |----------------|\n",
      "211. |  43310       4 |\n",
      "212. |  43311     130 |\n",
      "213. |  43320       4 |\n",
      "214. |  43321     464 |\n",
      "215. |  43330       1 |\n",
      "     |----------------|\n",
      "216. |  43331     530 |\n",
      "     +----------------+\n"
     ]
    }
   ],
   "source": [
    "*We can see a breakdown of the sample sizes across the strata\n",
    "list"
   ]
  },
  {
   "cell_type": "code",
   "execution_count": 12,
   "metadata": {},
   "outputs": [],
   "source": [
    "qui{\n",
    "    *Here makes categorizes the observation based on their sample size\n",
    "    gen strata_size1=0\n",
    "    replace strata_size1 = 1 if count>=1\n",
    "    gen strata_size5=0\n",
    "    replace strata_size5 = 1 if count>=5\n",
    "    gen strata_size10=0\n",
    "    replace strata_size10 = 1 if count>=10\n",
    "    gen strata_size20=0\n",
    "    replace strata_size20 = 1 if count>=20\n",
    "    gen strata_size30=0\n",
    "    replace strata_size30 = 1 if count>=30\n",
    "    gen strata_size50=0\n",
    "    replace strata_size50 = 1 if count>=50\n",
    "    gen strata_size100=0\n",
    "    replace strata_size100 = 1 if count>=100\n",
    "    \n",
    "    *collapses based on categories made above\n",
    "    collapse (sum) strata_size1 strata_size5 strata_size10 strata_size20 strata_size30 strata_size50 strata_size100\n",
    "    gen id=1\n",
    "    \n",
    "    *inverses (reshapes) the data matrix\n",
    "    reshape long strata_size, i(id) j(sample_size)\n",
    "    \n",
    "    *creates a percent of sample size\n",
    "    gen size_percent=(strata_size/216)*100\n",
    "}"
   ]
  },
  {
   "cell_type": "code",
   "execution_count": 13,
   "metadata": {},
   "outputs": [
    {
     "name": "stdout",
     "output_type": "stream",
     "text": [
      "\n",
      "  +------------------------------------------+\n",
      "  | sample_size | strata_size | size_percent |\n",
      "  |-------------+-------------+--------------|\n",
      "  |           1 |         216 |          100 |\n",
      "  |           5 |         196 |     90.74074 |\n",
      "  |          10 |         186 |     86.11111 |\n",
      "  |          20 |         171 |     79.16666 |\n",
      "  |          30 |         160 |     74.07407 |\n",
      "  |          50 |         144 |     66.66666 |\n",
      "  |         100 |         118 |     54.62963 |\n",
      "  +------------------------------------------+\n"
     ]
    }
   ],
   "source": [
    "list sample_size strata_size size_percent, noobs divider separator(7) abbreviate(15)"
   ]
  },
  {
   "cell_type": "markdown",
   "metadata": {},
   "source": [
    "Here we see that at 74% of strata have 30 or more observations."
   ]
  },
  {
   "cell_type": "markdown",
   "metadata": {},
   "source": [
    "***"
   ]
  },
  {
   "cell_type": "markdown",
   "metadata": {},
   "source": [
    "## Step 2: Running models"
   ]
  },
  {
   "cell_type": "markdown",
   "metadata": {},
   "source": [
    "Once we have the strata, we are ready to run the models! EIM and MAIHDA typically use random intercept model which is one of the simplest multilevel models. We will run both maximum likelihood and bayesian models. In my experience, the maximum likelihood and Bayesian results are very similar. The Bayesian is used as an extra precaution. I will demonstrate both. I use MLwiN extension in Stata to run the Bayesian models. <br>\n",
    "* Model A -- null model (model with no fixed effects)\n",
    "* Model B -- additive model (model with additive fixed effects)\n",
    "* Model C -- control model (model with control variables)"
   ]
  },
  {
   "cell_type": "code",
   "execution_count": 14,
   "metadata": {},
   "outputs": [
    {
     "name": "stdout",
     "output_type": "stream",
     "text": [
      "(ICQCM practice data for workshop)\n"
     ]
    }
   ],
   "source": [
    "*load the data we just made\n",
    "use \"C:\\Users\\acade\\Jupyter\\ICQCM\\workshop\\eimdata_strata.dta\", clear"
   ]
  },
  {
   "cell_type": "code",
   "execution_count": 15,
   "metadata": {},
   "outputs": [
    {
     "name": "stdout",
     "output_type": "stream",
     "text": [
      "C:\\Users\\acade\\Jupyter\\ICQCM\\workshop\\constructed files\n"
     ]
    }
   ],
   "source": [
    "cd \"C:\\Users\\acade\\Jupyter\\ICQCM\\workshop\\constructed files\""
   ]
  },
  {
   "cell_type": "markdown",
   "metadata": {},
   "source": [
    "Here we prepare the data for the analysis and MLwiN"
   ]
  },
  {
   "cell_type": "code",
   "execution_count": 16,
   "metadata": {},
   "outputs": [],
   "source": [
    "qui {\n",
    "*** Construct Constant Vector for use in MLwinN ***\n",
    "    gen cons = 1\n",
    "    gen denominator = 1\n",
    "*creates dummy variables for each tercile because we will need to use them in the models later    \n",
    "    rename strata stratum\n",
    "    tabulate race, gen(dum)\n",
    "        rename dum1 lowblk_lowlat\n",
    "        rename dum2 highblk_lowlat\n",
    "        rename dum3 lowblk_highlat\n",
    "        rename dum4 highblk_highlat\n",
    "    tabulate fhh_ter, gen(dum)\n",
    "        rename dum1 low_fhh\n",
    "        rename dum2 med_fhh\n",
    "        rename dum3 high_fhh\n",
    "    tabulate smcollnupper_ter, gen(dum)\n",
    "        rename dum1 low_smcollnup\n",
    "        rename dum2 med_smcollnup\n",
    "        rename dum3 high_smcollnup\n",
    "    tabulate mhhincome_ter, gen(dum)\n",
    "        rename dum1 low_mhhincome\n",
    "        rename dum2 med_mhhincome\n",
    "        rename dum3 high_mhhincome\n",
    "*Save a new data\n",
    "    save eimready.dta, replace\n",
    "}"
   ]
  },
  {
   "cell_type": "markdown",
   "metadata": {},
   "source": [
    "This block of code makes a data file with only 216 stratum. The block of code must ran together."
   ]
  },
  {
   "cell_type": "code",
   "execution_count": 17,
   "metadata": {},
   "outputs": [],
   "source": [
    "qui{\n",
    "    use eimready.dta, clear\n",
    "    by stratum, sort: generate selectfromlist = (_n==1)\n",
    "    drop if selectfromlist ==0 \n",
    "    keep stratum race fhh_ter smcollnupper_ter mhhincome_ter metro ///\n",
    "        highblk_lowlat lowblk_highlat highblk_highlat med_fhh high_fhh med_smcollnup high_smcollnup med_mhhincome high_mhhincome metro\n",
    "    save modeldata.dta, replace\n",
    "}"
   ]
  },
  {
   "cell_type": "markdown",
   "metadata": {},
   "source": [
    "#### NULL MODEL: Fitting the null models using the Frequentist and Bayesian approach\n",
    "We start with the null model and build from there."
   ]
  },
  {
   "cell_type": "markdown",
   "metadata": {},
   "source": [
    "<b>FREQUENTIST APPROACH - NULL MODEL (MODEL A)</B>"
   ]
  },
  {
   "cell_type": "code",
   "execution_count": 18,
   "metadata": {
    "scrolled": true
   },
   "outputs": [
    {
     "name": "stdout",
     "output_type": "stream",
     "text": [
      "\n",
      "(ICQCM practice data for workshop)\n",
      "\n",
      "\n",
      "Performing EM optimization ...\n",
      "\n",
      "Performing gradient-based optimization: \n",
      "Iteration 0:   log likelihood = -278244.16  \n",
      "Iteration 1:   log likelihood = -278244.16  \n",
      "\n",
      "Computing standard errors ...\n",
      "\n",
      "Mixed-effects ML regression                     Number of obs     =     71,103\n",
      "Group variable: stratum                         Number of groups  =        216\n",
      "                                                Obs per group:\n",
      "                                                              min =          1\n",
      "                                                              avg =      329.2\n",
      "                                                              max =      4,600\n",
      "                                                Wald chi2(0)      =          .\n",
      "Log likelihood = -278244.16                     Prob > chi2       =          .\n",
      "\n",
      "------------------------------------------------------------------------------\n",
      "  cancerrisk | Coefficient  Std. err.      z    P>|z|     [95% conf. interval]\n",
      "-------------+----------------------------------------------------------------\n",
      "       _cons |   29.65307   .4094971    72.41   0.000     28.85047    30.45567\n",
      "------------------------------------------------------------------------------\n",
      "\n",
      "------------------------------------------------------------------------------\n",
      "  Random-effects parameters  |   Estimate   Std. err.     [95% conf. interval]\n",
      "-----------------------------+------------------------------------------------\n",
      "stratum: Identity            |\n",
      "                  var(_cons) |   31.43627    3.43842      25.37048    38.95232\n",
      "-----------------------------+------------------------------------------------\n",
      "               var(Residual) |   145.3254     .77189      143.8203    146.8461\n",
      "------------------------------------------------------------------------------\n",
      "LR test vs. linear model: chibar2(01) = 9183.40       Prob >= chibar2 = 0.0000\n"
     ]
    }
   ],
   "source": [
    "*Running the nullmodel with Frequentist approach\n",
    "use \"eimready.dta\", clear\n",
    "mixed cancerrisk || stratum:"
   ]
  },
  {
   "cell_type": "code",
   "execution_count": 19,
   "metadata": {},
   "outputs": [
    {
     "name": "stdout",
     "output_type": "stream",
     "text": [
      "\n",
      "Intraclass correlation\n",
      "\n",
      "------------------------------------------------------------------------------\n",
      "                       Level |        ICC   Std. err.     [95% conf. interval]\n",
      "-----------------------------+------------------------------------------------\n",
      "                     stratum |   .1778456   .0160162        .14859    .2114307\n",
      "------------------------------------------------------------------------------\n"
     ]
    }
   ],
   "source": [
    "estat icc"
   ]
  },
  {
   "cell_type": "markdown",
   "metadata": {},
   "source": [
    "The VPC of the null model is 17.78%."
   ]
  },
  {
   "cell_type": "markdown",
   "metadata": {},
   "source": [
    "<b>BAYESIAN APPROACH - NULL MODEL (MODEL A)</B>"
   ]
  },
  {
   "cell_type": "code",
   "execution_count": 20,
   "metadata": {},
   "outputs": [],
   "source": [
    "*This is prep to run the models with the Bayesian approach\n",
    "qui{\n",
    "**** Set Globals for Calling to MLwiN ***\n",
    "    global MLwiN_path \"C:\\Program Files\\MLwiN v3.05\\mlwin.exe\"\n",
    "    global MLwiNScript_path \"C:\\Program Files\\MLwiN v3.05\\mlnscript.exe\"\n",
    "**Continuous predictor variables held in too much precision for MLwiN...this code\n",
    "*** will need to be used each time analysisready file is opened\n",
    "    use \"eimready.dta\", clear\n",
    "    recast float cancerrisk, force\n",
    "    recast float c_housyrbuilt70per, force\n",
    "    recast float c_medhouval10000, force\n",
    "    recast float c_manuper, force\n",
    "    recast float c_rentper, force\n",
    "    recast float c_unemployper, force\n",
    "    recast float c_medianage, force\n",
    "    sort stratum obs_id\n",
    "}"
   ]
  },
  {
   "cell_type": "code",
   "execution_count": 21,
   "metadata": {},
   "outputs": [
    {
     "name": "stdout",
     "output_type": "stream",
     "text": [
      " \n",
      "MLwiN 3.05 multilevel model                     Number of obs      =     71103\n",
      "Normal response model\n",
      "Estimation algorithm: RIGLS\n",
      "\n",
      "-----------------------------------------------------------\n",
      "                |   No. of       Observations per Group\n",
      " Level Variable |   Groups    Minimum    Average    Maximum\n",
      "----------------+------------------------------------------\n",
      "        stratum |      216          1      329.2       4600\n",
      "-----------------------------------------------------------\n",
      "\n",
      "Run time (seconds)        =       1.16\n",
      "Number of iterations      =          4\n",
      "Log restricted-likelihood = -278244.16\n",
      "Restricted-deviance       =  556488.32\n",
      "------------------------------------------------------------------------------\n",
      "  cancerrisk |      Coef.   Std. Err.      z    P>|z|     [95% Conf. Interval]\n",
      "-------------+----------------------------------------------------------------\n",
      "        cons |    29.6522    .410519   72.23    0.000     28.84759     30.4568\n",
      "------------------------------------------------------------------------------\n",
      "\n",
      "------------------------------------------------------------------------------\n",
      "   Random-effects Parameters |   Estimate   Std. Err.     [95% Conf. Interval]\n",
      "-----------------------------+------------------------------------------------\n",
      "Level 2: stratum             |\n",
      "                   var(cons) |   31.60808    3.41016      24.92429    38.29187\n",
      "-----------------------------+------------------------------------------------\n",
      "Level 1: obs_id              |\n",
      "                   var(cons) |   145.3253   .7718631      143.8125    146.8382\n",
      "------------------------------------------------------------------------------\n"
     ]
    }
   ],
   "source": [
    "*Running null model with the frequentist approach with MLwiN code. The output should be equivalent to:\n",
    "* mixed cancerrisk || stratum:\n",
    "runmlwin cancerrisk cons, ///\n",
    "  level2(stratum: cons) ///\n",
    "  level1(obs_id: cons) ///\n",
    "  rigls ///\n",
    "  nopause"
   ]
  },
  {
   "cell_type": "code",
   "execution_count": 22,
   "metadata": {},
   "outputs": [
    {
     "name": "stdout",
     "output_type": "stream",
     "text": [
      "\n",
      " \n",
      "MLwiN 3.05 multilevel model                     Number of obs      =     71103\n",
      "Normal response model\n",
      "Estimation algorithm: MCMC\n",
      "\n",
      "-----------------------------------------------------------\n",
      "                |   No. of       Observations per Group\n",
      " Level Variable |   Groups    Minimum    Average    Maximum\n",
      "----------------+------------------------------------------\n",
      "        stratum |      216          1      329.2       4600\n",
      "-----------------------------------------------------------\n",
      "\n",
      "Burnin                     =       5000\n",
      "Chain                      =      50000\n",
      "Thinning                   =         50\n",
      "Run time (seconds)         =       96.4\n",
      "Deviance (dbar)            =  555802.30\n",
      "Deviance (thetabar)        =  555613.97\n",
      "Effective no. of pars (pd) =     188.33\n",
      "Bayesian DIC               =  555990.63\n",
      "------------------------------------------------------------------------------\n",
      "  cancerrisk |      Mean    Std. Dev.     ESS     P       [95% Cred. Interval]\n",
      "-------------+----------------------------------------------------------------\n",
      "        cons |   29.67602   .4099114      342   0.000     28.84714    30.47315\n",
      "------------------------------------------------------------------------------\n",
      "\n",
      "------------------------------------------------------------------------------\n",
      "   Random-effects Parameters |     Mean   Std. Dev.   ESS     [95% Cred. Int]\n",
      "-----------------------------+------------------------------------------------\n",
      "Level 2: stratum             |\n",
      "                   var(cons) |  31.94501  3.530777    900   25.73607  39.21239\n",
      "-----------------------------+------------------------------------------------\n",
      "Level 1: obs_id              |\n",
      "                   var(cons) |  145.3365  .7733518   1031   143.8108    146.83\n",
      "------------------------------------------------------------------------------\n",
      "\n",
      "\n"
     ]
    }
   ],
   "source": [
    "*Running null model with the Bayesian approach with MLwiN code.\n",
    "runmlwin cancerrisk cons, ///\n",
    "  level2(stratum: cons, residuals(u, savechains(\"modelA_u.dta\", replace))) /// saving the residuals for each stratum, Model 1A\n",
    "  level1(obs_id: cons) ///\n",
    "  mcmc(burnin(5000) chain (50000) thinning(50) ///\n",
    "    savechains(\"modelA_beta.dta\", replace)) initsprevious /// saving the beta & variance parameter estimates for the models\n",
    "  nopause\n",
    "rename u0 m1u /* this is cleared and not used again, so I am not adapting this part of the code */\n",
    "drop u0se"
   ]
  },
  {
   "cell_type": "code",
   "execution_count": 23,
   "metadata": {},
   "outputs": [
    {
     "name": "stdout",
     "output_type": "stream",
     "text": [
      "\n",
      "\n",
      ". mcmcsum icc, variables\n",
      "------------------------------------------------------------------------------\n",
      "             |      Mean    Std. Dev.     ESS     P       [95% Cred. Interval]\n",
      "-------------+----------------------------------------------------------------\n",
      "         icc |   .1792474   .0161675      898   0.000     .1508591    .2121948\n",
      "------------------------------------------------------------------------------\n"
     ]
    }
   ],
   "source": [
    "* Calculate the ICC from the chains\n",
    "qui{\n",
    "    use \"modelA_beta.dta\", clear\n",
    "    rename RP2_var_cons_ sigma2u\n",
    "    rename RP1_var_cons_ sigma2e\n",
    "    generate icc = sigma2u/(sigma2u+sigma2e)\n",
    "}\n",
    "mcmcsum icc, variables"
   ]
  },
  {
   "cell_type": "markdown",
   "metadata": {},
   "source": [
    "The VPC of the null model is 17.92%."
   ]
  },
  {
   "cell_type": "markdown",
   "metadata": {},
   "source": [
    "#### ADDITIVE MODEL: Fitting the additive models using the Frequentist and Bayesian approach\n",
    "Next, we add additive fixed effects of the intersectional strata. We do this to control for the additive effects."
   ]
  },
  {
   "cell_type": "markdown",
   "metadata": {},
   "source": [
    "<b>FREQUENTIST APPROACH - ADDTIVE MODEL (MODEL B)</B>"
   ]
  },
  {
   "cell_type": "code",
   "execution_count": 24,
   "metadata": {
    "scrolled": true
   },
   "outputs": [
    {
     "name": "stdout",
     "output_type": "stream",
     "text": [
      "\n",
      "(ICQCM practice data for workshop)\n",
      "\n",
      "\n",
      "Performing EM optimization ...\n",
      "\n",
      "Performing gradient-based optimization: \n",
      "Iteration 0:   log likelihood = -278086.27  \n",
      "Iteration 1:   log likelihood = -278086.27  \n",
      "\n",
      "Computing standard errors ...\n",
      "\n",
      "Mixed-effects ML regression                     Number of obs     =     71,103\n",
      "Group variable: stratum                         Number of groups  =        216\n",
      "                                                Obs per group:\n",
      "                                                              min =          1\n",
      "                                                              avg =      329.2\n",
      "                                                              max =      4,600\n",
      "                                                Wald chi2(10)     =     868.00\n",
      "Log likelihood = -278086.27                     Prob > chi2       =     0.0000\n",
      "\n",
      "-------------------------------------------------------------------------------\n",
      "   cancerrisk | Coefficient  Std. err.      z    P>|z|     [95% conf. interval]\n",
      "--------------+----------------------------------------------------------------\n",
      "highblk_low~t |   8.186343   .4772784    17.15   0.000     7.250895    9.121791\n",
      "lowblk_high~t |   3.290596   .4675328     7.04   0.000     2.374249    4.206944\n",
      "highblk_hig~t |   6.813076   .4859513    14.02   0.000     5.860629    7.765523\n",
      "      med_fhh |   .9973612   .4035639     2.47   0.013     .2063904    1.788332\n",
      "     high_fhh |    2.71041   .4300385     6.30   0.000      1.86755     3.55327\n",
      "med_smcollnup |  -1.877543   .4041087    -4.65   0.000    -2.669582   -1.085505\n",
      "high_smcoll~p |  -1.602472   .4377293    -3.66   0.000    -2.460406   -.7445389\n",
      "med_mhhincome |  -.4391477   .3958363    -1.11   0.267    -1.214973    .3366771\n",
      "high_mhhinc~e |  -.8140668   .4453385    -1.83   0.068    -1.686914    .0587805\n",
      "        metro |   6.430278    .363376    17.70   0.000     5.718074    7.142482\n",
      "        _cons |   21.98862   .5335916    41.21   0.000      20.9428    23.03444\n",
      "-------------------------------------------------------------------------------\n",
      "\n",
      "------------------------------------------------------------------------------\n",
      "  Random-effects parameters  |   Estimate   Std. err.     [95% conf. interval]\n",
      "-----------------------------+------------------------------------------------\n",
      "stratum: Identity            |\n",
      "                  var(_cons) |   4.051666   .6225972      2.998017    5.475617\n",
      "-----------------------------+------------------------------------------------\n",
      "               var(Residual) |   145.3783   .7723155      143.8725       146.9\n",
      "------------------------------------------------------------------------------\n",
      "LR test vs. linear model: chibar2(01) = 751.30        Prob >= chibar2 = 0.0000\n"
     ]
    }
   ],
   "source": [
    "*Running the model with the Frequentist approach\n",
    "use eimready.dta, clear\n",
    "mixed cancerrisk highblk_lowlat lowblk_highlat highblk_highlat med_fhh high_fhh ///\n",
    "    med_smcollnup high_smcollnup med_mhhincome high_mhhincome metro || stratum:"
   ]
  },
  {
   "cell_type": "code",
   "execution_count": 25,
   "metadata": {
    "scrolled": true
   },
   "outputs": [
    {
     "name": "stdout",
     "output_type": "stream",
     "text": [
      "\n",
      "Residual intraclass correlation\n",
      "\n",
      "------------------------------------------------------------------------------\n",
      "                       Level |        ICC   Std. err.     [95% conf. interval]\n",
      "-----------------------------+------------------------------------------------\n",
      "                     stratum |   .0271141   .0040592      .0201972    .0363122\n",
      "------------------------------------------------------------------------------\n"
     ]
    }
   ],
   "source": [
    "estat icc"
   ]
  },
  {
   "cell_type": "markdown",
   "metadata": {},
   "source": [
    "The VPC of Model B is 2.71%"
   ]
  },
  {
   "cell_type": "code",
   "execution_count": 26,
   "metadata": {},
   "outputs": [
    {
     "name": "stdout",
     "output_type": "stream",
     "text": [
      "87.111493\n"
     ]
    }
   ],
   "source": [
    "di 100*((31.43627-4.051666)/31.43627)"
   ]
  },
  {
   "cell_type": "markdown",
   "metadata": {},
   "source": [
    "The PCV of the Model B to A is 87.11%. Thus, additive effects explain about 87% of the variation of the outcome variable."
   ]
  },
  {
   "cell_type": "code",
   "execution_count": 27,
   "metadata": {},
   "outputs": [
    {
     "name": "stdout",
     "output_type": "stream",
     "text": [
      "12.888507\n"
     ]
    }
   ],
   "source": [
    "di 100-100*((31.43627-4.051666)/31.43627)"
   ]
  },
  {
   "cell_type": "markdown",
   "metadata": {},
   "source": [
    "About 12% of the variation of the dependent variable is not explained by the additive main effects."
   ]
  },
  {
   "cell_type": "code",
   "execution_count": 28,
   "metadata": {},
   "outputs": [],
   "source": [
    "qui{\n",
    "*calculates expected value (fixed and random effects)\n",
    "    predict exp, fitted relevel(stratum)\n",
    "*calculates the standard error of random effects \n",
    "    predict u0_se, reses\n",
    "*calculate the standard error of the fixed effect portion\n",
    "    predict fixed_se, stdp\n",
    "*calculates 95% confidence interval (1.96se) and adds the standard error of both fixed and random\n",
    "    gen totse=(fixed_se+u0_se)*1.96\n",
    "*calculating the lower 95% CU bound\n",
    "    gen explo=exp-totse\n",
    "*calculating the upper 95% CU bound\n",
    "    gen exphi=exp+totse\n",
    "    by stratum, sort: generate dup = (_n==1)\n",
    "    drop if dup==0\n",
    "    drop mhhincome blk_ntlatper latper fhh smcollnupper cancerrisk metro c_medhouval10000 ///\n",
    "    c_medianage c_unemployper c_rentper c_manuper c_housyrbuilt70per dup\n",
    "    sort exp\n",
    "    gen rank_exp = _n\n",
    "\n",
    "    merge 1:1 stratum using \"modeldata.dta\", nogenerate assert(match)\n",
    "    save \"modelBresults_freq.dta\", replace\n",
    "}"
   ]
  },
  {
   "cell_type": "markdown",
   "metadata": {},
   "source": [
    "<b>BAYESIAN APPROACH - ADDTIVE MODEL (MODEL B)</B>"
   ]
  },
  {
   "cell_type": "code",
   "execution_count": 29,
   "metadata": {},
   "outputs": [],
   "source": [
    "*This is prep to run the models with the Bayesian approach\n",
    "qui{\n",
    "**** Set Globals for Calling to MLwiN ***\n",
    "    global MLwiN_path \"C:\\Program Files\\MLwiN v3.05\\mlwin.exe\"\n",
    "    global MLwiNScript_path \"C:\\Program Files\\MLwiN v3.05\\mlnscript.exe\"\n",
    "*Load the data\n",
    "    use \"eimready.dta\", clear\n",
    "    recast float cancerrisk, force\n",
    "    recast float c_housyrbuilt70per, force\n",
    "    recast float c_medhouval10000, force\n",
    "    recast float c_manuper, force\n",
    "    recast float c_rentper, force\n",
    "    recast float c_unemployper, force\n",
    "    recast float c_medianage, force\n",
    "    sort stratum obs_id\n",
    "}"
   ]
  },
  {
   "cell_type": "code",
   "execution_count": 30,
   "metadata": {},
   "outputs": [
    {
     "name": "stdout",
     "output_type": "stream",
     "text": [
      " \n",
      "MLwiN 3.05 multilevel model                     Number of obs      =     71103\n",
      "Normal response model\n",
      "Estimation algorithm: RIGLS\n",
      "\n",
      "-----------------------------------------------------------\n",
      "                |   No. of       Observations per Group\n",
      " Level Variable |   Groups    Minimum    Average    Maximum\n",
      "----------------+------------------------------------------\n",
      "        stratum |      216          1      329.2       4600\n",
      "-----------------------------------------------------------\n",
      "\n",
      "Run time (seconds)        =       1.23\n",
      "Number of iterations      =          6\n",
      "Log restricted-likelihood = -278086.48\n",
      "Restricted-deviance       =  556172.97\n",
      "------------------------------------------------------------------------------\n",
      "  cancerrisk |      Coef.   Std. Err.      z    P>|z|     [95% Conf. Interval]\n",
      "-------------+----------------------------------------------------------------\n",
      "        cons |    21.9697   .5562003   39.50    0.000     20.87956    23.05983\n",
      "highblk_lo~t |   8.226324   .4967857   16.56    0.000     7.252642    9.200006\n",
      "lowblk_hig~t |    3.26764   .4868495    6.71    0.000     2.313433    4.221848\n",
      "highblk_hi~t |   6.826155   .5057289   13.50    0.000     5.834944    7.817365\n",
      "     med_fhh |   .9997613   .4201743    2.38    0.017     .1762348    1.823288\n",
      "    high_fhh |   2.724282   .4471577    6.09    0.000     1.847869    3.600695\n",
      "med_smcoll~p |  -1.875749   .4208356   -4.46    0.000    -2.700572   -1.050927\n",
      "high_smcol~p |  -1.608593   .4545626   -3.54    0.000     -2.49952   -.7176669\n",
      "med_mhhinc~e |  -.4351267   .4122978   -1.06    0.291    -1.243216    .3729622\n",
      "high_mhhin~e |  -.8152411   .4625251   -1.76    0.078    -1.721774    .0912915\n",
      "       metro |   6.437431   .3767456   17.09    0.000     5.699024    7.175839\n",
      "------------------------------------------------------------------------------\n",
      "\n",
      "------------------------------------------------------------------------------\n",
      "   Random-effects Parameters |   Estimate   Std. Err.     [95% Conf. Interval]\n",
      "-----------------------------+------------------------------------------------\n",
      "Level 2: stratum             |\n",
      "                   var(cons) |   4.481964   .5846282      3.336114    5.627814\n",
      "-----------------------------+------------------------------------------------\n",
      "Level 1: obs_id              |\n",
      "                   var(cons) |   145.3721   .7719772       143.859    146.8851\n",
      "------------------------------------------------------------------------------\n"
     ]
    }
   ],
   "source": [
    "*Running additive model with the frequentist approach with MLwiN code. The output should be equivalent to:\n",
    "* mixed cancerrisk highblk_lowlat lowblk_highlat highblk_highlat med_fhh high_fhh ///\n",
    "*    med_smcollnup high_smcollnup med_mhhincome high_mhhincome metro || stratum:\n",
    "runmlwin cancerrisk cons ///\n",
    "    highblk_lowlat lowblk_highlat highblk_highlat ///\n",
    "    med_fhh high_fhh ///\n",
    "    med_smcollnup high_smcollnup ///\n",
    "    med_mhhincome high_mhhincome ///\n",
    "    metro, ///\n",
    "    level2(stratum: cons) ///\n",
    "    level1(obs_id: cons) ///\n",
    "    rigls ///\n",
    "    nopause"
   ]
  },
  {
   "cell_type": "code",
   "execution_count": 31,
   "metadata": {},
   "outputs": [
    {
     "name": "stdout",
     "output_type": "stream",
     "text": [
      "\n",
      " \n",
      "MLwiN 3.05 multilevel model                     Number of obs      =     71103\n",
      "Normal response model\n",
      "Estimation algorithm: MCMC\n",
      "\n",
      "-----------------------------------------------------------\n",
      "                |   No. of       Observations per Group\n",
      " Level Variable |   Groups    Minimum    Average    Maximum\n",
      "----------------+------------------------------------------\n",
      "        stratum |      216          1      329.2       4600\n",
      "-----------------------------------------------------------\n",
      "\n",
      "Burnin                     =       5000\n",
      "Chain                      =      50000\n",
      "Thinning                   =         50\n",
      "Run time (seconds)         =        169\n",
      "Deviance (dbar)            =  555826.32\n",
      "Deviance (thetabar)        =  555677.64\n",
      "Effective no. of pars (pd) =     148.68\n",
      "Bayesian DIC               =  555975.00\n",
      "------------------------------------------------------------------------------\n",
      "  cancerrisk |      Mean    Std. Dev.     ESS     P       [95% Cred. Interval]\n",
      "-------------+----------------------------------------------------------------\n",
      "        cons |   21.98367   .5623651      885   0.000     20.91525    23.01708\n",
      "highblk_lo~t |   8.221252   .4953266      930   0.000     7.292338    9.165785\n",
      "lowblk_hig~t |   3.256266   .4886068     1070   0.000     2.297562    4.159299\n",
      "highblk_hi~t |   6.839053   .5082448      861   0.000     5.867867    7.870315\n",
      "     med_fhh |   1.002513    .423414      918   0.013      .094572    1.817745\n",
      "    high_fhh |   2.737639   .4474312      793   0.000     1.928421    3.601137\n",
      "med_smcoll~p |  -1.887971   .4194688     1022   0.000    -2.708472   -1.040321\n",
      "high_smcol~p |  -1.598651    .461708      754   0.002    -2.507222   -.7259389\n",
      "med_mhhinc~e |  -.4455852   .4148401      816   0.149    -1.201878    .4188336\n",
      "high_mhhin~e |  -.8079406   .4614949      749   0.048    -1.654037    .0866469\n",
      "       metro |   6.433084   .3757244     1157   0.000     5.726805    7.135061\n",
      "------------------------------------------------------------------------------\n",
      "\n",
      "------------------------------------------------------------------------------\n",
      "   Random-effects Parameters |     Mean   Std. Dev.   ESS     [95% Cred. Int]\n",
      "-----------------------------+------------------------------------------------\n",
      "Level 2: stratum             |\n",
      "                   var(cons) |  4.540252  .7087224    735   3.345423  6.119359\n",
      "-----------------------------+------------------------------------------------\n",
      "Level 1: obs_id              |\n",
      "                   var(cons) |  145.3778  .7690806    801   143.9015  146.8995\n",
      "------------------------------------------------------------------------------\n",
      "\n",
      "\n"
     ]
    }
   ],
   "source": [
    "*Running additive model with the Bayesian approach with MLwiN code.\n",
    "runmlwin cancerrisk  cons ///\n",
    "    highblk_lowlat lowblk_highlat highblk_highlat ///\n",
    "    med_fhh high_fhh ///\n",
    "    med_smcollnup high_smcollnup ///\n",
    "    med_mhhincome high_mhhincome ///\n",
    "    metro, ///\n",
    "    level2(stratum: cons, residuals(u, savechains(\"modelB_u.dta\", replace))) /// saving the residuals for each stratum, Model 1B\n",
    "    level1(obs_id: cons) ///\n",
    "    mcmc(burnin(5000) chain(50000) thinning(50) ///\n",
    "        savechains(\"modelB_beta.dta\", replace)) initsprevious /// saving the beta & variance parameter estimates for the models\n",
    "    nopause\n",
    "rename u0 m1u /* this is cleared and not used again, so I am not adapting this part of the code */\n",
    "drop u0se"
   ]
  },
  {
   "cell_type": "code",
   "execution_count": 32,
   "metadata": {},
   "outputs": [
    {
     "name": "stdout",
     "output_type": "stream",
     "text": [
      "\n",
      "\n",
      ". mcmcsum icc, variables\n",
      "------------------------------------------------------------------------------\n",
      "             |      Mean    Std. Dev.     ESS     P       [95% Cred. Interval]\n",
      "-------------+----------------------------------------------------------------\n",
      "         icc |   .0300648   .0045461      730   0.000     .0224772    .0403754\n",
      "------------------------------------------------------------------------------\n"
     ]
    }
   ],
   "source": [
    "* Calculate the ICC from the chains\n",
    "qui {\n",
    "    use \"modelB_beta.dta\", clear\n",
    "    rename RP2_var_cons_ sigma2u\n",
    "    rename RP1_var_cons_ sigma2e\n",
    "    generate icc = sigma2u/(sigma2u + sigma2e)\n",
    "}\n",
    "mcmcsum icc, variables"
   ]
  },
  {
   "cell_type": "markdown",
   "metadata": {},
   "source": [
    "The VPC of additive model is 3.01%. "
   ]
  },
  {
   "cell_type": "code",
   "execution_count": 33,
   "metadata": {},
   "outputs": [
    {
     "name": "stdout",
     "output_type": "stream",
     "text": [
      "14.212711\n"
     ]
    }
   ],
   "source": [
    "di 100-100*((31.94501-4.540252)/31.94501)"
   ]
  },
  {
   "cell_type": "markdown",
   "metadata": {},
   "source": [
    "The PCV of the additive model to the null model is 14.21%. About 14% of the variation of the dependent variable is not explained by the additive main effects."
   ]
  },
  {
   "cell_type": "code",
   "execution_count": 34,
   "metadata": {},
   "outputs": [],
   "source": [
    "qui{\n",
    "*Prepare fixed-part parameter chains\n",
    "    use \"modelB_beta.dta\", clear\n",
    "    drop deviance RP2_var_cons_ RP1_var_cons_\n",
    "    rename FP1_* b_*\n",
    "    format %9.2f b_*\n",
    "    compress\n",
    "    save \"modelB_beta_prepped.dta\", replace\n",
    "    isid iteration\n",
    "    codebook iteration, compact\n",
    "\n",
    "*Prepare stratum random effects chains\n",
    "    use \"modelB_u.dta\", clear\n",
    "    drop residual idnum\n",
    "    rename value u\n",
    "    format %9.2f u\n",
    "    sort stratum iteration\n",
    "    order stratum iteration\n",
    "    compress\n",
    "    save \"modelB_u_prepped.dta\", replace\n",
    "    isid stratum iteration\n",
    "    codebook iteration, compact\n",
    "\n",
    "*Merge fixed-part and random effect chains\n",
    "    use \"modeldata.dta\", clear\n",
    "    isid stratum\n",
    "    cross using \"modelB_beta_prepped.dta\"\n",
    "    isid stratum iteration\n",
    "    sort stratum iteration\n",
    "    merge 1:1 stratum iteration using \"modelB_u_prepped.dta\", nogenerate assert(match)\n",
    "    isid stratum iteration\n",
    "    compress\n",
    "    save \"modelBdata_prepped.dta\", replace\n",
    "\n",
    "*Calculate values of interest\n",
    "* Expected value based on fixed and random part\n",
    "* Since \n",
    "    use \"modelBdata_prepped.dta\", clear /* change this line for future iteration of code depending on data file name */\n",
    "    gen cons =1 /* error in original code...had to create con variable in this data set */\n",
    "    generate expectedvalue = (b_cons*cons ///\n",
    "        + b_highblk_lowlat*highblk_lowlat ///\n",
    "        + b_lowblk_highlat*lowblk_highlat ///\n",
    "        + b_highblk_highlat*highblk_highlat ///\n",
    "        + b_med_fhh*med_fhh ///\n",
    "        + b_high_fhh*high_fhh ///\n",
    "        + b_med_smcollnup*med_smcollnup ///\n",
    "        + b_high_smcollnup*high_smcollnup ///\n",
    "        + b_med_mhhincome*med_mhhincome ///\n",
    "        + b_high_mhhincome*high_mhhincome ///\n",
    "        + b_metro*metro ///\n",
    "        + u )\n",
    "    label var expectedvalue \"Expected value based on main effects and interactions\"\n",
    "    format %9.3f expectedvalue\n",
    "\n",
    "* Expected value based only on the fixed-part\n",
    "    generate fixedeffect = (b_cons*cons ///\n",
    "        + b_highblk_lowlat*highblk_lowlat ///\n",
    "        + b_lowblk_highlat*lowblk_highlat ///\n",
    "        + b_highblk_highlat*highblk_highlat ///\n",
    "        + b_med_fhh*med_fhh ///\n",
    "        + b_high_fhh*high_fhh ///\n",
    "        + b_med_smcollnup*med_smcollnup ///\n",
    "        + b_high_smcollnup*high_smcollnup ///\n",
    "        + b_med_mhhincome*med_mhhincome ///\n",
    "        + b_high_mhhincome*high_mhhincome ///\n",
    "        + b_metro*metro ///\n",
    "        )\n",
    "    label var fixedeffect \"Expected value based only on main effects\"\n",
    "    format %9.3f fixedeffect\n",
    "\n",
    "* Expected value based only on the random-part\n",
    "    generate randomeffect = u\n",
    "    label var randomeffect \"Random Effect\"\n",
    "    format %9.3f randomeffect\n",
    "\n",
    "* Calculate the mean, 2.5th and 97.5th percentiles of the MCMC chains\n",
    "    bysort stratum (iteration): egen expmn = mean(expectedvalue)\n",
    "    bysort stratum (iteration): egen explo = pctile(expectedvalue), p(2.5)\n",
    "    bysort stratum (iteration): egen exphi = pctile(expectedvalue), p(97.5)\n",
    "    format %9.3f expmn explo exphi\n",
    "\n",
    "    bysort stratum (iteration): egen FEmn = mean(fixedeffect)\n",
    "    bysort stratum (iteration): egen FElo = pctile(fixedeffect), p(2.5)\n",
    "    bysort stratum (iteration): egen FEhi = pctile(fixedeffect), p(97.5)\n",
    "    format %9.3f FEmn FElo FEhi\n",
    "\n",
    "    bysort stratum (iteration): egen REmn = mean(randomeffect)\n",
    "    bysort stratum (iteration): egen RElo = pctile(randomeffect), p(2.5)\n",
    "    bysort stratum (iteration): egen REhi = pctile(randomeffect), p(97.5)\n",
    "    format %9.3f REmn RElo REhi\n",
    "\n",
    "*Drop chains and just keep their summaries (mean, 2.5th, and 97.5th)\n",
    "    drop iteration b* u* expectedvalue fixedeffect randomeffect\n",
    "    duplicates drop\n",
    "    isid stratum\n",
    "\n",
    "* Ranks\n",
    "    sort expmn\n",
    "    generate exprank = _n\n",
    "    order exprank, after(exphi)\n",
    "    sort FEmn\n",
    "    generate FErank = _n\n",
    "    order FErank, after(FEhi)\n",
    "    sort REmn\n",
    "    generate RErank = _n\n",
    "    order RErank, after(REhi)\n",
    "\n",
    "* Sort the data\n",
    "    sort stratum\n",
    "    isid stratum\n",
    "\n",
    "* Compress and save the data\n",
    "    compress\n",
    "    save \"modelBresults.dta\", replace /* change this line for future iterations of code deprending on data file name */\n",
    "}"
   ]
  },
  {
   "cell_type": "markdown",
   "metadata": {},
   "source": [
    "#### CONTROL MODEL: Fitting the control models using the Frequentist and Bayesian approach\n",
    "Finally, we assess the model with control variables."
   ]
  },
  {
   "cell_type": "markdown",
   "metadata": {},
   "source": [
    "<b>FREQUENTIST APPROACH - CONTROL MODEL (MODEL C)</B>"
   ]
  },
  {
   "cell_type": "code",
   "execution_count": 36,
   "metadata": {
    "scrolled": true
   },
   "outputs": [
    {
     "name": "stdout",
     "output_type": "stream",
     "text": [
      "\n",
      "(ICQCM practice data for workshop)\n",
      "\n",
      "\n",
      "Performing EM optimization ...\n",
      "\n",
      "Performing gradient-based optimization: \n",
      "Iteration 0:   log likelihood = -275038.41  \n",
      "Iteration 1:   log likelihood = -275038.41  \n",
      "\n",
      "Computing standard errors ...\n",
      "\n",
      "Mixed-effects ML regression                     Number of obs     =     70,387\n",
      "Group variable: stratum                         Number of groups  =        215\n",
      "                                                Obs per group:\n",
      "                                                              min =          1\n",
      "                                                              avg =      327.4\n",
      "                                                              max =      4,459\n",
      "                                                Wald chi2(16)     =    1665.80\n",
      "Log likelihood = -275038.41                     Prob > chi2       =     0.0000\n",
      "\n",
      "-------------------------------------------------------------------------------\n",
      "   cancerrisk | Coefficient  Std. err.      z    P>|z|     [95% conf. interval]\n",
      "--------------+----------------------------------------------------------------\n",
      "highblk_low~t |   7.839848   .4717167    16.62   0.000       6.9153    8.764395\n",
      "lowblk_high~t |   2.381423    .462501     5.15   0.000     1.474938    3.287908\n",
      "highblk_hig~t |    5.73361   .4838028    11.85   0.000     4.785374    6.681846\n",
      "      med_fhh |   1.116459   .3994877     2.79   0.005     .3334772     1.89944\n",
      "     high_fhh |   2.668534    .427616     6.24   0.000     1.830422    3.506645\n",
      "med_smcollnup |  -2.334293   .3996227    -5.84   0.000    -3.117539   -1.551047\n",
      "high_smcoll~p |  -3.152766   .4383625    -7.19   0.000     -4.01194   -2.293591\n",
      "med_mhhincome |  -.0905887   .3950206    -0.23   0.819    -.8648149    .6836375\n",
      "high_mhhinc~e |     -.7085   .4538866    -1.56   0.119    -1.598101    .1811014\n",
      "        metro |   6.024101   .3609622    16.69   0.000     5.316628    6.731574\n",
      "  c_medianage |  -.0316316   .0078989    -4.00   0.000    -.0471132     -.01615\n",
      "c_housyrbui~r |   .0262877   .0017598    14.94   0.000     .0228385     .029737\n",
      "c_medho~10000 |   .0593359    .003782    15.69   0.000     .0519233    .0667484\n",
      "    c_manuper |  -.0490351   .0072845    -6.73   0.000    -.0633126   -.0347577\n",
      "    c_rentper |   .0357925   .0032311    11.08   0.000     .0294597    .0421254\n",
      "c_unemployper |    .007622   .0099485     0.77   0.444    -.0118766    .0271207\n",
      "        _cons |   23.42614   .5314234    44.08   0.000     22.38457    24.46771\n",
      "-------------------------------------------------------------------------------\n",
      "\n",
      "------------------------------------------------------------------------------\n",
      "  Random-effects parameters  |   Estimate   Std. err.     [95% conf. interval]\n",
      "-----------------------------+------------------------------------------------\n",
      "stratum: Identity            |\n",
      "                  var(_cons) |   3.909857   .6147002      2.873007    5.320901\n",
      "-----------------------------+------------------------------------------------\n",
      "               var(Residual) |    144.365   .7708675       142.862    145.8838\n",
      "------------------------------------------------------------------------------\n",
      "LR test vs. linear model: chibar2(01) = 658.05        Prob >= chibar2 = 0.0000\n"
     ]
    }
   ],
   "source": [
    "*Running the model with the Frequentist approach\n",
    "use \"eimready.dta\", clear\n",
    "mixed cancerrisk highblk_lowlat lowblk_highlat highblk_highlat med_fhh high_fhh ///\n",
    "    med_smcollnup high_smcollnup med_mhhincome high_mhhincome metro ///\n",
    "    c_medianage c_housyrbuilt70per c_medhouval10000 c_manuper ///\n",
    "    c_rentper c_unemployper || stratum:"
   ]
  },
  {
   "cell_type": "code",
   "execution_count": 37,
   "metadata": {
    "scrolled": false
   },
   "outputs": [
    {
     "name": "stdout",
     "output_type": "stream",
     "text": [
      "\n",
      "Residual intraclass correlation\n",
      "\n",
      "------------------------------------------------------------------------------\n",
      "                       Level |        ICC   Std. err.     [95% conf. interval]\n",
      "-----------------------------+------------------------------------------------\n",
      "                     stratum |    .026369   .0040421      .0195043    .0355621\n",
      "------------------------------------------------------------------------------\n"
     ]
    }
   ],
   "source": [
    "estat icc"
   ]
  },
  {
   "cell_type": "markdown",
   "metadata": {},
   "source": [
    "The VPC of Model C is 2.64%."
   ]
  },
  {
   "cell_type": "markdown",
   "metadata": {},
   "source": [
    "<b>BAYESIAN APPROACH - CONTROL MODEL (MODEL C)</B>"
   ]
  },
  {
   "cell_type": "code",
   "execution_count": 38,
   "metadata": {},
   "outputs": [],
   "source": [
    "*Prep for the Bayesian approach\n",
    "qui {\n",
    "**** Set Globals for Calling to MLwiN ***\n",
    "    global MLwiN_path \"C:\\Program Files\\MLwiN v3.05\\mlwin.exe\"\n",
    "    global MLwiNScript_path \"C:\\Program Files\\MLwiN v3.05\\mlnscript.exe\"\n",
    "*Load the data\n",
    "    use \"eimready.dta\", clear\n",
    "    recast float cancerrisk, force\n",
    "    recast float c_housyrbuilt70per, force\n",
    "    recast float c_medhouval10000, force\n",
    "    recast float c_manuper, force\n",
    "    recast float c_rentper, force\n",
    "    recast float c_unemployper, force\n",
    "    recast float c_medianage, force\n",
    "    sort stratum obs_id\n",
    "}"
   ]
  },
  {
   "cell_type": "code",
   "execution_count": 39,
   "metadata": {},
   "outputs": [
    {
     "name": "stdout",
     "output_type": "stream",
     "text": [
      " \n",
      "MLwiN 3.05 multilevel model                     Number of obs      =     70387\n",
      "Normal response model\n",
      "Estimation algorithm: RIGLS\n",
      "\n",
      "-----------------------------------------------------------\n",
      "                |   No. of       Observations per Group\n",
      " Level Variable |   Groups    Minimum    Average    Maximum\n",
      "----------------+------------------------------------------\n",
      "        stratum |      215          1      327.4       4459\n",
      "-----------------------------------------------------------\n",
      "\n",
      "Run time (seconds)        =       1.99\n",
      "Number of iterations      =          6\n",
      "Log restricted-likelihood = -275038.63\n",
      "Restricted-deviance       =  550077.26\n",
      "------------------------------------------------------------------------------\n",
      "  cancerrisk |      Coef.   Std. Err.      z    P>|z|     [95% Conf. Interval]\n",
      "-------------+----------------------------------------------------------------\n",
      "        cons |   23.40228   .5541458   42.23    0.000     22.31618    24.48839\n",
      "highblk_lo~t |   7.879182   .4914634   16.03    0.000     6.915931    8.842433\n",
      "lowblk_hig~t |   2.360385   .4820006    4.90    0.000     1.415681    3.305089\n",
      "highblk_hi~t |    5.74383   .5038398   11.40    0.000     4.756322    6.731338\n",
      "     med_fhh |   1.120326    .416333    2.69    0.007     .3043286    1.936324\n",
      "    high_fhh |   2.684926   .4448821    6.04    0.000     1.812973    3.556879\n",
      "med_smcoll~p |   -2.33228   .4165339   -5.60    0.000    -3.148672   -1.515889\n",
      "high_smcol~p |  -3.164744   .4553037   -6.95    0.000    -4.057123   -2.272365\n",
      "med_mhhinc~e |  -.0863364   .4115721   -0.21    0.834    -.8930029      .72033\n",
      "high_mhhin~e |  -.7121364   .4707753   -1.51    0.130    -1.634839    .2105662\n",
      "       metro |   6.037511   .3745242   16.12    0.000     5.303457    6.771565\n",
      " c_medianage |  -.0317228   .0079015   -4.01    0.000    -.0472094   -.0162362\n",
      "c_housyrbu~r |   .0262645   .0017601   14.92    0.000     .0228147    .0297143\n",
      "c_medh~10000 |    .059239   .0037828   15.66    0.000     .0518249     .066653\n",
      "   c_manuper |  -.0491802    .007286   -6.75    0.000    -.0634605   -.0348999\n",
      "   c_rentper |   .0358265    .003232   11.08    0.000     .0294919     .042161\n",
      "c_unemploy~r |   .0076336   .0099501    0.77    0.443    -.0118682    .0271353\n",
      "------------------------------------------------------------------------------\n",
      "\n",
      "------------------------------------------------------------------------------\n",
      "   Random-effects Parameters |   Estimate   Std. Err.     [95% Conf. Interval]\n",
      "-----------------------------+------------------------------------------------\n",
      "Level 2: stratum             |\n",
      "                   var(cons) |   4.338661   .5684448       3.22453    5.452792\n",
      "-----------------------------+------------------------------------------------\n",
      "Level 1: obs_id              |\n",
      "                   var(cons) |   144.3704   .7705539      142.8602    145.8807\n",
      "------------------------------------------------------------------------------\n"
     ]
    }
   ],
   "source": [
    "*Running additive model with the frequentist approach with MLwiN code. The output should be equivalent to:\n",
    "* mixed cancerrisk highblk_lowlat lowblk_highlat highblk_highlat med_fhh high_fhh ///\n",
    "*    med_smcollnup high_smcollnup med_mhhincome high_mhhincome metro ///\n",
    "*    c_medianage c_housyrbuilt70per c_medhouval10000 c_manuper ///\n",
    "*    c_rentper c_unemployper || stratum:\n",
    "runmlwin cancerrisk cons ///\n",
    "    highblk_lowlat lowblk_highlat highblk_highlat ///\n",
    "    med_fhh high_fhh ///\n",
    "    med_smcollnup high_smcollnup ///\n",
    "    med_mhhincome high_mhhincome ///\n",
    "    metro ///\n",
    "    c_medianage ///\n",
    "    c_housyrbuilt70per c_medhouval10000 c_manuper ///\n",
    "    c_rentper c_unemployper, ///\n",
    "    level2(stratum: cons) ///\n",
    "    level1(obs_id:cons) ///\n",
    "    rigls ///\n",
    "    nopause"
   ]
  },
  {
   "cell_type": "code",
   "execution_count": 40,
   "metadata": {},
   "outputs": [
    {
     "name": "stdout",
     "output_type": "stream",
     "text": [
      "\n",
      " \n",
      "MLwiN 3.05 multilevel model                     Number of obs      =     70387\n",
      "Normal response model\n",
      "Estimation algorithm: MCMC\n",
      "\n",
      "-----------------------------------------------------------\n",
      "                |   No. of       Observations per Group\n",
      " Level Variable |   Groups    Minimum    Average    Maximum\n",
      "----------------+------------------------------------------\n",
      "        stratum |      215          1      327.4       4459\n",
      "-----------------------------------------------------------\n",
      "\n",
      "Burnin                     =       5000\n",
      "Chain                      =      50000\n",
      "Thinning                   =         50\n",
      "Run time (seconds)         =        233\n",
      "Deviance (dbar)            =  549742.02\n",
      "Deviance (thetabar)        =  549589.11\n",
      "Effective no. of pars (pd) =     152.91\n",
      "Bayesian DIC               =  549894.94\n",
      "------------------------------------------------------------------------------\n",
      "  cancerrisk |      Mean    Std. Dev.     ESS     P       [95% Cred. Interval]\n",
      "-------------+----------------------------------------------------------------\n",
      "        cons |   23.41408   .5568416     1096   0.000     22.33707    24.50816\n",
      "highblk_lo~t |   7.876338   .5085217      697   0.000     6.825074    8.920857\n",
      "lowblk_hig~t |   2.353891   .4868865     1097   0.000     1.338242    3.319257\n",
      "highblk_hi~t |   5.732743   .5121213     1037   0.000     4.735175    6.779329\n",
      "     med_fhh |    1.11782   .4234611     1129   0.006     .2525468    1.995466\n",
      "    high_fhh |   2.683608    .451383      894   0.000     1.787679    3.625715\n",
      "med_smcoll~p |  -2.332951   .4174865     1129   0.000    -3.147515   -1.535619\n",
      "high_smcol~p |  -3.150739   .4539791     1057   0.000    -4.036867   -2.225089\n",
      "med_mhhinc~e |  -.0892563   .4165011      990   0.415    -.8522994    .7593406\n",
      "high_mhhin~e |  -.7162871   .4823073     1373   0.067    -1.635282    .2227739\n",
      "       metro |    6.03013    .378181     1311   0.000     5.262347    6.750722\n",
      " c_medianage |  -.0317214   .0079522     1008   0.000    -.0477243     -.01604\n",
      "c_housyrbu~r |   .0262629   .0017624      987   0.000     .0230791    .0298603\n",
      "c_medh~10000 |   .0592213   .0037681      984   0.000      .051985     .066582\n",
      "   c_manuper |  -.0491139   .0072797      903   0.000    -.0625659   -.0348543\n",
      "   c_rentper |   .0358338   .0032315      818   0.000      .029558     .042348\n",
      "c_unemploy~r |   .0076503   .0099126     1011   0.212    -.0100315    .0262355\n",
      "------------------------------------------------------------------------------\n",
      "\n",
      "------------------------------------------------------------------------------\n",
      "   Random-effects Parameters |     Mean   Std. Dev.   ESS     [95% Cred. Int]\n",
      "-----------------------------+------------------------------------------------\n",
      "Level 2: stratum             |\n",
      "                   var(cons) |  4.408317  .7061888    883   3.165725  5.992044\n",
      "-----------------------------+------------------------------------------------\n",
      "Level 1: obs_id              |\n",
      "                   var(cons) |  144.3765  .7675076    710   142.8259  145.8906\n",
      "------------------------------------------------------------------------------\n",
      "\n",
      "\n"
     ]
    }
   ],
   "source": [
    "*Running control model with the Bayesian approach with MLwiN code.\n",
    "runmlwin cancerrisk cons ///\n",
    "    highblk_lowlat lowblk_highlat highblk_highlat ///\n",
    "    med_fhh high_fhh ///\n",
    "    med_smcollnup high_smcollnup ///\n",
    "    med_mhhincome high_mhhincome ///\n",
    "    metro ///\n",
    "    c_medianage ///\n",
    "    c_housyrbuilt70per c_medhouval10000 c_manuper ///\n",
    "    c_rentper c_unemployper, ///\n",
    "    level2(stratum: cons,  residuals(u, savechains(\"modelC_u.dta\", replace))) ///\n",
    "    level1(obs_id:cons) ///\n",
    "    mcmc(burnin(5000) chain(50000) thinning(50) ///\n",
    "        savechains(\"modelC_beta.dta\", replace)) initsprevious ///\n",
    "    nopause\n",
    "rename u0 m1u /* this is cleared and not used again, so I am not adapting this part of the code */\n",
    "drop u0se"
   ]
  },
  {
   "cell_type": "code",
   "execution_count": 41,
   "metadata": {},
   "outputs": [
    {
     "name": "stdout",
     "output_type": "stream",
     "text": [
      "\n",
      "\n",
      ". mcmcsum icc, variables\n",
      "------------------------------------------------------------------------------\n",
      "             |      Mean    Std. Dev.     ESS     P       [95% Cred. Interval]\n",
      "-------------+----------------------------------------------------------------\n",
      "         icc |   .0294122   .0046213      871   0.000     .0215503     .039967\n",
      "------------------------------------------------------------------------------\n"
     ]
    }
   ],
   "source": [
    "qui{\n",
    "* Calculate the ICC from the chains\n",
    "    use \"modelC_beta.dta\", clear\n",
    "    rename RP2_var_cons_ sigma2u\n",
    "    rename RP1_var_cons_ sigma2e\n",
    "    generate icc = sigma2u/(sigma2u + sigma2e)\n",
    "}\n",
    "mcmcsum icc, variables"
   ]
  },
  {
   "cell_type": "markdown",
   "metadata": {},
   "source": [
    "The VPC of the control model is 2.94%."
   ]
  },
  {
   "cell_type": "markdown",
   "metadata": {},
   "source": [
    "***"
   ]
  },
  {
   "cell_type": "markdown",
   "metadata": {},
   "source": [
    "## Step 3: Making caterpillar plot\n",
    "We are going to to make plots based on the results from step 2."
   ]
  },
  {
   "cell_type": "code",
   "execution_count": 42,
   "metadata": {},
   "outputs": [
    {
     "name": "stdout",
     "output_type": "stream",
     "text": [
      "C:\\Users\\acade\\Jupyter\\ICQCM\\workshop\\constructed files\n"
     ]
    }
   ],
   "source": [
    "cd \"C:\\Users\\acade\\Jupyter\\ICQCM\\workshop\\constructed files\""
   ]
  },
  {
   "cell_type": "markdown",
   "metadata": {},
   "source": [
    "<B>MAKING PLOTS WITH FREQUENTIST APPROACH DATA</B>"
   ]
  },
  {
   "cell_type": "code",
   "execution_count": 47,
   "metadata": {},
   "outputs": [
    {
     "name": "stdout",
     "output_type": "stream",
     "text": [
      "\n",
      "(ICQCM practice data for workshop)\n",
      "\n",
      "\n",
      "file C:/Users/acade/.stata_kernel_cache/graph4.svg saved as SVG format\n",
      "file C:/Users/acade/.stata_kernel_cache/graph4.pdf saved as PDF format\n",
      "\n",
      "(file Fig_M2_ExpValvsRank_freq.png not found)\n",
      "file Fig_M2_ExpValvsRank_freq.png saved as PNG format\n"
     ]
    }
   ],
   "source": [
    "*This makes caterpillar plot with freq data\n",
    "use \"modelBresults_freq.dta\", clear\n",
    "/* without labels */\n",
    "twoway (scatter exp rank_exp, xscale(range(1, 108)) mcolor(black) msymbol(smcircle)) ///\n",
    "    (rspike exphi explo rank_exp, lcolor(black)) ////\n",
    "    , ////\n",
    "    graphregion(margin(small)) ///\n",
    "    ytitle(\"Predicted Cancer Risk\", size(large)) ///\n",
    "    ylabel(15 20 25 30 35 40 45 50 55, angle(horizontal) format(%9.2f) labsize(large)) ///\n",
    "    yline( 15 20 25 30 35 40 45 50 55, lwidth(vthin) lcolor(gray)) ///\n",
    "    xtitle(\"Stratum Rank\", size(large)) ///\n",
    "    xlabel(1 50 100 150 200 216, labsize(large)) ///\n",
    "    xsize(12) ///\n",
    "    legend(off) ///\n",
    "    scheme(s1mono)\n",
    "graph export \"Fig_M2_ExpValvsRank_freq.png\", replace width(3400)"
   ]
  },
  {
   "cell_type": "code",
   "execution_count": 48,
   "metadata": {},
   "outputs": [
    {
     "name": "stdout",
     "output_type": "stream",
     "text": [
      "\n",
      "\n",
      ". cap noi twoway     (scatter exp plotorder, mcolor(black) msymbol(circle) mlabe\n",
      "> l(stratum) mlabposition(12) mlabangle(90) mlabgap(12) mlabsize(medium))     (r\n",
      "> spike exphi explo plotorder, lcolor(black)),     ytitle(\"Predicted Cancer Risk\n",
      "> \", size(large))     text(57 5 \"Ten Lowest\", place(c))     text(57 15 \"Ten High\n",
      "> est\", place(c))     ylabel( 15 20 25 30 35 40 45 50 55 60, angle(horizontal) f\n",
      "> ormat(%9.2f) labsize(large))     yline( 15 20 25 30 35 40 45 50 55 60, lwidth(\n",
      "> vthin) lcolor(gray))     xtitle(\"Stratum Rank\", size(large))     xlabel(, nola\n",
      "> bel notick)     xline(10.3, lwidth(thin))     legend(off)     scheme(s1mono)\n",
      "\n",
      ". if _rc == 0 {\n",
      ".     noi gr export `\"C:/Users/acade/.stata_kernel_cache/graph$stata_kernel_grap\n",
      "> h_counter.svg\"', width(600) replace\n",
      "file C:/Users/acade/.stata_kernel_cache/graph5.svg saved as SVG format\n",
      ".     noi gr export `\"C:/Users/acade/.stata_kernel_cache/graph$stata_kernel_grap\n",
      "> h_counter.pdf\"', replace\n",
      "file C:/Users/acade/.stata_kernel_cache/graph5.pdf saved as PDF format\n",
      ".     global stata_kernel_graph_counter = $stata_kernel_graph_counter + 1\n",
      ". }            \n",
      "\n",
      ". graph export \"Fig_M2_ExpValvsRank_TOPTENS_freq.png\", replace width(3400)\n",
      "(file Fig_M2_ExpValvsRank_TOPTENS_freq.png not found)\n",
      "file Fig_M2_ExpValvsRank_TOPTENS_freq.png saved as PNG format\n"
     ]
    }
   ],
   "source": [
    "*Make top ten lowest and highest of predicted value\n",
    "qui{\n",
    "    use \"modelBresults_freq.dta\", clear\n",
    "    gen keepforplot = .\n",
    "    replace keepforplot = 1 if rank_exp > 206\n",
    "    replace keepforplot = 1 if rank_exp < 11\n",
    "    drop if keepforplot == .\n",
    "    sort rank_exp\n",
    "    gen plotorder = .\n",
    "    replace plotorder = 1 if rank_exp == 1\n",
    "    replace plotorder = 2 if rank_exp == 2\n",
    "    replace plotorder = 3 if rank_exp == 3\n",
    "    replace plotorder = 4 if rank_exp == 4\n",
    "    replace plotorder = 5 if rank_exp == 5\n",
    "    replace plotorder = 6 if rank_exp == 6\n",
    "    replace plotorder = 7 if rank_exp == 7\n",
    "    replace plotorder = 8 if rank_exp == 8\n",
    "    replace plotorder = 9 if rank_exp == 9\n",
    "    replace plotorder = 10 if rank_exp == 10\n",
    "    replace plotorder = 11 if rank_exp == 207\n",
    "    replace plotorder = 12 if rank_exp == 208\n",
    "    replace plotorder = 13 if rank_exp == 209\n",
    "    replace plotorder = 14 if rank_exp == 210\n",
    "    replace plotorder = 15 if rank_exp == 211\n",
    "    replace plotorder = 16 if rank_exp == 212\n",
    "    replace plotorder = 17 if rank_exp == 213\n",
    "    replace plotorder = 18 if rank_exp == 214\n",
    "    replace plotorder = 19 if rank_exp == 215\n",
    "    replace plotorder = 20 if rank_exp == 216\n",
    "}\n",
    "\n",
    "twoway ///\n",
    "    (scatter exp plotorder, mcolor(black) msymbol(circle) mlabel(stratum) mlabposition(12) mlabangle(90) mlabgap(12) mlabsize(medium)) ///\n",
    "    (rspike exphi explo plotorder, lcolor(black)), ////\n",
    "    ytitle(\"Predicted Cancer Risk\", size(large)) ///\n",
    "    text(57 5 \"Ten Lowest\", place(c)) ///\n",
    "    text(57 15 \"Ten Highest\", place(c)) ///\n",
    "    ylabel( 15 20 25 30 35 40 45 50 55 60, angle(horizontal) format(%9.2f) labsize(large)) ///\n",
    "    yline( 15 20 25 30 35 40 45 50 55 60, lwidth(vthin) lcolor(gray)) ///\n",
    "    xtitle(\"Stratum Rank\", size(large)) ///\n",
    "    xlabel(, nolabel notick) ///\n",
    "    xline(10.3, lwidth(thin)) ///\n",
    "    legend(off) ///\n",
    "    scheme(s1mono)\n",
    "graph export \"Fig_M2_ExpValvsRank_TOPTENS_freq.png\", replace width(3400)"
   ]
  },
  {
   "cell_type": "markdown",
   "metadata": {},
   "source": [
    "<B>MAKING PLOTS WITH BAYESIAN APPROACH DATA</B>"
   ]
  },
  {
   "cell_type": "markdown",
   "metadata": {},
   "source": [
    "This makes a ranked caterpillar plot of the predicted values from Model B (additive model) with the credible intervals."
   ]
  },
  {
   "cell_type": "code",
   "execution_count": 49,
   "metadata": {},
   "outputs": [
    {
     "name": "stdout",
     "output_type": "stream",
     "text": [
      "\n",
      "(ICQCM practice data for workshop)\n",
      "\n",
      "\n",
      "file C:/Users/acade/.stata_kernel_cache/graph6.svg saved as SVG format\n",
      "file C:/Users/acade/.stata_kernel_cache/graph6.pdf saved as PDF format\n",
      "\n",
      "(file Fig_M2_ExpValvsRank.png not found)\n",
      "file Fig_M2_ExpValvsRank.png saved as PNG format\n"
     ]
    }
   ],
   "source": [
    "use \"modelBresults.dta\", clear\n",
    "/* without labels */\n",
    "twoway (scatter expmn exprank, xscale(range(1, 108)) mcolor(black) msymbol(smcircle)) ///\n",
    "    (rspike exphi explo exprank, lcolor(black)) ////\n",
    "    , ////\n",
    "    graphregion(margin(small)) ///\n",
    "    ytitle(\"Predicted Cancer Risk\", size(large)) ///\n",
    "    ylabel(15 20 25 30 35 40 45 50 55, angle(horizontal) format(%9.2f) labsize(large)) ///\n",
    "    yline( 15 20 25 30 35 40 45 50 55, lwidth(vthin) lcolor(gray)) ///\n",
    "    xtitle(\"Stratum Rank\", size(large)) ///\n",
    "    xlabel(1 50 100 150 200 216, labsize(large)) ///\n",
    "    xsize(12) ///\n",
    "    legend(off) ///\n",
    "    scheme(s1mono)\n",
    "graph export \"Fig_M2_ExpValvsRank.png\", replace width(3400)"
   ]
  },
  {
   "cell_type": "markdown",
   "metadata": {},
   "source": [
    "This makes a plot that zooms into the top ten lowest and highest and labels the stratum."
   ]
  },
  {
   "cell_type": "code",
   "execution_count": 50,
   "metadata": {},
   "outputs": [
    {
     "name": "stdout",
     "output_type": "stream",
     "text": [
      "\n",
      "\n",
      ". cap noi twoway     (scatter expmn plotorder, mcolor(black) msymbol(circle) mla\n",
      "> bel(stratum) mlabposition(12) mlabangle(90) mlabgap(12) mlabsize(medium))     \n",
      "> (rspike exphi explo plotorder, lcolor(black))     ,     ytitle(\"Predicted Canc\n",
      "> er Risk\", size(large))     text(57 5 \"Ten Lowest\", place(c))     text(57 15 \"T\n",
      "> en Highest\", place(c))     ylabel( 15 20 25 30 35 40 45 50 55 60, angle(horizo\n",
      "> ntal) format(%9.2f) labsize(large))     yline( 15 20 25 30 35 40 45 50 55 60, \n",
      "> lwidth(vthin) lcolor(gray))     xtitle(\"Stratum Rank\", size(large))     xlabel\n",
      "> (, nolabel notick)     xline(10.3, lwidth(thin))     legend(off)     scheme(s1\n",
      "> mono)\n",
      "\n",
      ". if _rc == 0 {\n",
      ".     noi gr export `\"C:/Users/acade/.stata_kernel_cache/graph$stata_kernel_grap\n",
      "> h_counter.svg\"', width(600) replace\n",
      "file C:/Users/acade/.stata_kernel_cache/graph7.svg saved as SVG format\n",
      ".     noi gr export `\"C:/Users/acade/.stata_kernel_cache/graph$stata_kernel_grap\n",
      "> h_counter.pdf\"', replace\n",
      "file C:/Users/acade/.stata_kernel_cache/graph7.pdf saved as PDF format\n",
      ".     global stata_kernel_graph_counter = $stata_kernel_graph_counter + 1\n",
      ". }            \n",
      "\n",
      ". graph export \"Fig_M2_ExpValvsRank_TOPTENS.png\", replace width(3400)\n",
      "file Fig_M2_ExpValvsRank_TOPTENS.png saved as PNG format\n"
     ]
    }
   ],
   "source": [
    "*Make top ten lowest and highest of predicted value\n",
    "qui{\n",
    "    use \"modelBresults.dta\", clear\n",
    "    gen keepforplot = .\n",
    "    replace keepforplot = 1 if exprank > 206\n",
    "    replace keepforplot = 1 if exprank < 11\n",
    "    drop if keepforplot == .\n",
    "    sort exprank\n",
    "    gen plotorder = .\n",
    "    replace plotorder = 1 if exprank == 1\n",
    "    replace plotorder = 2 if exprank == 2\n",
    "    replace plotorder = 3 if exprank == 3\n",
    "    replace plotorder = 4 if exprank == 4\n",
    "    replace plotorder = 5 if exprank == 5\n",
    "    replace plotorder = 6 if exprank == 6\n",
    "    replace plotorder = 7 if exprank == 7\n",
    "    replace plotorder = 8 if exprank == 8\n",
    "    replace plotorder = 9 if exprank == 9\n",
    "    replace plotorder = 10 if exprank == 10\n",
    "    replace plotorder = 11 if exprank == 207\n",
    "    replace plotorder = 12 if exprank == 208\n",
    "    replace plotorder = 13 if exprank == 209\n",
    "    replace plotorder = 14 if exprank == 210\n",
    "    replace plotorder = 15 if exprank == 211\n",
    "    replace plotorder = 16 if exprank == 212\n",
    "    replace plotorder = 17 if exprank == 213\n",
    "    replace plotorder = 18 if exprank == 214\n",
    "    replace plotorder = 19 if exprank == 215\n",
    "    replace plotorder = 20 if exprank == 216\n",
    "}\n",
    "\n",
    "twoway ///\n",
    "    (scatter expmn plotorder, mcolor(black) msymbol(circle) mlabel(stratum) mlabposition(12) mlabangle(90) mlabgap(12) mlabsize(medium)) ///\n",
    "    (rspike exphi explo plotorder, lcolor(black)) ////\n",
    "    , ////\n",
    "    ytitle(\"Predicted Cancer Risk\", size(large)) ///\n",
    "    text(57 5 \"Ten Lowest\", place(c)) ///\n",
    "    text(57 15 \"Ten Highest\", place(c)) ///\n",
    "    ylabel( 15 20 25 30 35 40 45 50 55 60, angle(horizontal) format(%9.2f) labsize(large)) ///\n",
    "    yline( 15 20 25 30 35 40 45 50 55 60, lwidth(vthin) lcolor(gray)) ///\n",
    "    xtitle(\"Stratum Rank\", size(large)) ///\n",
    "    xlabel(, nolabel notick) ///\n",
    "    xline(10.3, lwidth(thin)) ///\n",
    "    legend(off) ///\n",
    "    scheme(s1mono)\n",
    "graph export \"Fig_M2_ExpValvsRank_TOPTENS.png\", replace width(3400)"
   ]
  },
  {
   "cell_type": "markdown",
   "metadata": {},
   "source": [
    "That concludes this walkthrough. I hope it was helpful."
   ]
  }
 ],
 "metadata": {
  "kernelspec": {
   "display_name": "Stata",
   "language": "stata",
   "name": "stata"
  },
  "language_info": {
   "codemirror_mode": "stata",
   "file_extension": ".do",
   "mimetype": "text/x-stata",
   "name": "stata",
   "version": "15.1"
  }
 },
 "nbformat": 4,
 "nbformat_minor": 4
}
